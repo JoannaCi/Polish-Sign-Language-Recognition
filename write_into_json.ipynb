{
 "cells": [
  {
   "cell_type": "code",
   "execution_count": 79,
   "metadata": {},
   "outputs": [],
   "source": [
    "from PIL import Image\n",
    "\n",
    "import json\n",
    "import os\n",
    "import shutil\n",
    "import unicodedata\n",
    "import uuid\n",
    "# import cv2\n",
    "# import mediapipe as mp\n",
    "from tqdm.auto import tqdm"
   ]
  },
  {
   "cell_type": "code",
   "execution_count": 90,
   "metadata": {},
   "outputs": [],
   "source": [
    "def create_new_folder(path):\n",
    "    if not os.path.exists(path):\n",
    "        os.makedirs(path)\n",
    "    else:\n",
    "        shutil.rmtree(path)           # Removes all the subdirectories!\n",
    "        print('Directory existed and was cleaned')\n",
    "        os.makedirs(path)"
   ]
  },
  {
   "cell_type": "code",
   "execution_count": 82,
   "metadata": {},
   "outputs": [],
   "source": [
    "folder_path_raw = '../dataset/images_raw'\n",
    "folder_path = '../dataset/images'"
   ]
  },
  {
   "cell_type": "code",
   "execution_count": 97,
   "metadata": {},
   "outputs": [
    {
     "name": "stdout",
     "output_type": "stream",
     "text": [
      "Directory existed and was cleaned\n"
     ]
    },
    {
     "name": "stderr",
     "output_type": "stream",
     "text": [
      "  0%|          | 0/3741 [00:00<?, ?it/s]"
     ]
    },
    {
     "name": "stderr",
     "output_type": "stream",
     "text": [
      "100%|██████████| 3741/3741 [02:10<00:00, 28.59it/s]\n"
     ]
    }
   ],
   "source": [
    "def convert_to_jpg(file_path, path_to_save):\n",
    "    img = Image.open(file_path)\n",
    "    if img.format == 'PNG': # Conversion of png to jpg\n",
    "        file_name = os.path.splitext(path_to_save)[0]\n",
    "        img = img.convert(\"RGB\")\n",
    "        img.save(file_name + '.jpg', 'JPEG')\n",
    "    else:\n",
    "        file_name = os.path.splitext(path_to_save)[0]\n",
    "        img.save(file_name + '.jpg', 'JPEG')\n",
    "\n",
    "create_new_folder(folder_path)\n",
    "\n",
    "for file_name in tqdm(os.listdir(folder_path_raw)):\n",
    "    if file_name.lower().endswith('.png') or  file_name.lower().endswith('.jpg'):\n",
    "        file_path = os.path.join(folder_path_raw, file_name)\n",
    "        path_to_save = os.path.join(folder_path, file_name)\n",
    "        convert_to_jpg(file_path, path_to_save)"
   ]
  },
  {
   "cell_type": "code",
   "execution_count": 98,
   "metadata": {},
   "outputs": [
    {
     "name": "stdout",
     "output_type": "stream",
     "text": [
      "3702\n"
     ]
    }
   ],
   "source": [
    "with os.scandir(folder_path) as entries: # Used scandir instead of listdir to detect Polish characters (e.g ą,ę)\n",
    "    print(len(list(entries)))"
   ]
  },
  {
   "cell_type": "code",
   "execution_count": 99,
   "metadata": {},
   "outputs": [
    {
     "name": "stdout",
     "output_type": "stream",
     "text": [
      "Directory existed and was cleaned\n",
      "Directory existed and was cleaned\n",
      "skipping starting with img IMG_2539.jpg\n",
      "skipping starting with img IMG_2673.jpg\n",
      "skipping starting with img IMG_2564.jpg\n",
      "skipping starting with img IMG_2541.jpg\n",
      "skipping starting with img IMG_2559.jpg\n",
      "skipping starting with img IMG_2580.jpg\n",
      "skipping starting with img IMG_2667.jpg\n",
      "skipping starting with img IMG_2610.jpg\n",
      "skipping starting with img IMG_2530.jpg\n",
      "skipping starting with img IMG_2671.jpg\n",
      "skipping starting with img IMG_2576.jpg\n",
      "skipping starting with img IMG_2560.jpg\n",
      "skipping starting with img IMG_2563.jpg\n",
      "skipping starting with img IMG_2663.jpg\n",
      "skipping starting with img IMG_2582.jpg\n",
      "skipping starting with img IMG_2668.jpg\n",
      "skipping starting with img IMG_2612.jpg\n",
      "skipping starting with img IMG_2664.jpg\n",
      "skipping starting with img IMG_2616.jpg\n",
      "skipping starting with img IMG_2531 2.jpg\n",
      "skipping starting with img IMG_2540.jpg\n",
      "skipping starting with img IMG_2570.jpg\n",
      "skipping starting with img IMG_2618.jpg\n",
      "skipping starting with img IMG_2568.jpg\n",
      "skipping starting with img IMG_2565.jpg\n",
      "skipping starting with img IMG_2573.jpg\n",
      "skipping starting with img IMG_2547.jpg\n",
      "skipping starting with img IMG_2555.jpg\n",
      "skipping starting with img IMG_2542.jpg\n",
      "skipping starting with img IMG_2544.jpg\n",
      "skipping starting with img IMG_2552.jpg\n",
      "skipping starting with img IMG_2561.jpg\n",
      "skipping starting with img IMG_2581.jpg\n",
      "skipping starting with img IMG_2569.jpg\n",
      "skipping starting with img IMG_2578.jpg\n",
      "skipping starting with img IMG_2577.jpg\n",
      "skipping starting with img IMG_2546.jpg\n",
      "skipping starting with img IMG_2536.jpg\n",
      "skipping starting with img IMG_2557.jpg\n",
      "skipping starting with img IMG_2558.jpg\n",
      "skipping starting with img IMG_2566.jpg\n",
      "skipping starting with img IMG_2550.jpg\n",
      "skipping starting with img IMG_2574.jpg\n",
      "skipping starting with img IMG_2529.jpg\n",
      "skipping starting with img IMG_2567.jpg\n",
      "skipping starting with img IMG_2537.jpg\n",
      "skipping starting with img IMG_2545.jpg\n",
      "skipping starting with img IMG_2549.jpg\n",
      "skipping starting with img IMG_2666.jpg\n",
      "skipping starting with img IMG_2551.jpg\n",
      "skipping starting with img IMG_2662.jpg\n",
      "skipping starting with img IMG_2533.jpg\n",
      "skipping starting with img IMG_2575.jpg\n",
      "skipping starting with img IMG_2661.jpg\n",
      "skipping starting with img IMG_2535.jpg\n",
      "skipping starting with img IMG_2572.jpg\n",
      "skipping starting with img IMG_2579.jpg\n",
      "skipping starting with img IMG_2617.jpg\n",
      "skipping starting with img IMG_2553.jpg\n",
      "skipping starting with img IMG_2556.jpg\n",
      "skipping starting with img IMG_2670.jpg\n",
      "skipping starting with img IMG_2526.jpg\n",
      "skipping starting with img IMG_2613.jpg\n",
      "skipping starting with img IMG_2538.jpg\n",
      "skipping starting with img IMG_2528.jpg\n",
      "skipping starting with img IMG_2615.jpg\n",
      "skipping starting with img IMG_2669.jpg\n",
      "skipping starting with img IMG_2548.jpg\n",
      "skipping starting with img IMG_2571.jpg\n",
      "skipping starting with img IMG_2665.jpg\n",
      "skipping starting with img IMG_2554.jpg\n",
      "skipping starting with img IMG_2672.jpg\n",
      "skipping starting with img IMG_2534.jpg\n",
      "skipping starting with img IMG_2527.jpg\n",
      "skipping starting with img IMG_2614.jpg\n",
      "skipping starting with img IMG_2543.jpg\n",
      "3626 76\n"
     ]
    }
   ],
   "source": [
    "def extract_labels(folder_path):\n",
    "    labels = {}\n",
    "    # /home/ant/projects/psl/dataset/images/A35.jpg\n",
    "    skipped = 0\n",
    "    created = 0\n",
    "    labels_folder = '../dataset/labels/'\n",
    "    images_path = '../dataset/images_renamed'\n",
    "    \n",
    "    create_new_folder(labels_folder)\n",
    "    create_new_folder(images_path)\n",
    "    # Searching for files in a folder\n",
    "    with os.scandir(folder_path) as entries: # Used scandir instead of listdir to detect Polish characters (e.g ą,ę)\n",
    "        for entry in entries:\n",
    "            if entry.is_file() and entry.name.lower().endswith('.jpg'): # I want to exclude files that are not jpg\n",
    "                filename = entry.name\n",
    "                #print(filename)\n",
    "                label = ''.join([c for c in filename.split('.')[0] if not c.isdigit()])\n",
    "                \n",
    "                # Skip file names starting with 'img'\n",
    "                if filename.lower().startswith('img'):\n",
    "                    print(f'skipping starting with img {filename}')\n",
    "                    skipped += 1\n",
    "                    continue\n",
    "                \n",
    "                # Normalize the filename to ensure proper handling of diacritical marks\n",
    "                normalized_filename = unicodedata.normalize('NFC', filename)\n",
    "\n",
    "                # Check if filename contains 'sz', 'cz', 'ch' or 'rz'\n",
    "                if 'sz' in filename:\n",
    "                    labels[filename] = 'sz'\n",
    "                elif 'cz' in filename:\n",
    "                    labels[filename] = 'cz'\n",
    "                elif 'ch' in filename:\n",
    "                    labels[filename] = 'ch'\n",
    "                elif 'rz' in filename:\n",
    "                    labels[filename] = 'rz'\n",
    "                else:    \n",
    "                    # Retrieving the first letter of the file name    \n",
    "                    labels[normalized_filename] = label\n",
    "            # else:\n",
    "            #     print(f'else: {entry.name}')\n",
    "                \n",
    "                # Prepare the label dictionary for the current image\n",
    "                image_labels = {'label': label}\n",
    "                \n",
    "                \n",
    "\n",
    "                new_file_name = str(uuid.uuid4()).replace('-', '')\n",
    "                shutil.copyfile(os.path.join(folder_path, filename), os.path.join(images_path, new_file_name + '.jpg'))\n",
    "               # Saving the results to a JSON file\n",
    "                with open(os.path.join(labels_folder, f'{new_file_name}.json'), 'w', encoding='utf-8') as json_file:\n",
    "                    json.dump(image_labels, json_file,  indent=4, ensure_ascii=False)\n",
    "                created += 1\n",
    "            else:\n",
    "                skipped += 1  \n",
    "    print(created, skipped)\n",
    "\n",
    "# Calling the function\n",
    "extract_labels(folder_path)"
   ]
  }
 ],
 "metadata": {
  "kernelspec": {
   "display_name": "psl",
   "language": "python",
   "name": "python3"
  },
  "language_info": {
   "codemirror_mode": {
    "name": "ipython",
    "version": 3
   },
   "file_extension": ".py",
   "mimetype": "text/x-python",
   "name": "python",
   "nbconvert_exporter": "python",
   "pygments_lexer": "ipython3",
   "version": "3.10.13"
  }
 },
 "nbformat": 4,
 "nbformat_minor": 2
}
